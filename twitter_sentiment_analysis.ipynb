{
  "metadata": {
    "kernelspec": {
      "display_name": "Python 3",
      "language": "python",
      "name": "python3"
    },
    "language_info": {
      "name": "python",
      "version": "3.6.6",
      "mimetype": "text/x-python",
      "codemirror_mode": {
        "name": "ipython",
        "version": 3
      },
      "pygments_lexer": "ipython3",
      "nbconvert_exporter": "python",
      "file_extension": ".py"
    },
    "colab": {
      "provenance": []
    }
  },
  "nbformat_minor": 0,
  "nbformat": 4,
  "cells": [
    {
      "cell_type": "markdown",
      "source": [
        "# Twitter Sentiment Analysis"
      ],
      "metadata": {
        "_uuid": "92b885dd147dac19bd0a33db3cd0da100bd5bc23",
        "id": "dDGZRZXyeQ3y"
      }
    },
    {
      "cell_type": "code",
      "source": [
        "# DataFrame\n",
        "import pandas as pd\n",
        "\n",
        "# Matplot\n",
        "import matplotlib.pyplot as plt\n",
        "%matplotlib inline\n",
        "\n",
        "# Scikit-learn\n",
        "from sklearn.model_selection import train_test_split\n",
        "from sklearn.preprocessing import LabelEncoder\n",
        "from sklearn.metrics import confusion_matrix, classification_report, accuracy_score\n",
        "from sklearn.manifold import TSNE\n",
        "from sklearn.feature_extraction.text import TfidfVectorizer\n",
        "\n",
        "# Keras\n",
        "from keras.preprocessing.text import Tokenizer\n",
        "from keras.preprocessing.sequence import pad_sequences\n",
        "from keras.models import Sequential\n",
        "from keras.layers import Activation, Dense, Dropout, Embedding, Flatten, Conv1D, MaxPooling1D, LSTM\n",
        "from keras import utils\n",
        "from keras.callbacks import ReduceLROnPlateau, EarlyStopping\n",
        "\n",
        "# nltk\n",
        "import nltk\n",
        "from nltk.corpus import stopwords\n",
        "from  nltk.stem import SnowballStemmer\n",
        "\n",
        "# Word2vec\n",
        "import gensim\n",
        "\n",
        "# Utility\n",
        "import re\n",
        "import numpy as np\n",
        "import os\n",
        "from collections import Counter\n",
        "import logging\n",
        "import time\n",
        "import pickle\n",
        "import itertools\n",
        "\n",
        "# Set log\n",
        "logging.basicConfig(format='%(asctime)s : %(levelname)s : %(message)s', level=logging.INFO)"
      ],
      "metadata": {
        "_uuid": "303e72966af732ddef0bd8108a321095314e44af",
        "trusted": true,
        "id": "IyEoF4RgeQ30"
      },
      "execution_count": null,
      "outputs": []
    },
    {
      "cell_type": "code",
      "source": [
        "nltk.download('stopwords')"
      ],
      "metadata": {
        "_uuid": "35e1a89dead5fd160e4c9a024a21d2e569fc89ff",
        "execution": {
          "iopub.status.busy": "2023-09-12T10:53:09.031313Z",
          "iopub.execute_input": "2023-09-12T10:53:09.033789Z",
          "iopub.status.idle": "2023-09-12T10:53:09.258761Z",
          "shell.execute_reply.started": "2023-09-12T10:53:09.033710Z",
          "shell.execute_reply": "2023-09-12T10:53:09.257995Z"
        },
        "trusted": true,
        "id": "RZLTlmZxeQ32",
        "outputId": "fbafd018-cc99-4944-b35f-33cba0433136"
      },
      "execution_count": null,
      "outputs": [
        {
          "name": "stdout",
          "text": "[nltk_data] Downloading package stopwords to /usr/share/nltk_data...\n[nltk_data]   Unzipping corpora/stopwords.zip.\n",
          "output_type": "stream"
        },
        {
          "execution_count": 2,
          "output_type": "execute_result",
          "data": {
            "text/plain": "True"
          },
          "metadata": {}
        }
      ]
    },
    {
      "cell_type": "markdown",
      "source": [
        "### Settings"
      ],
      "metadata": {
        "_uuid": "e8b01a07df001e4abcc745900336c4db06e455f3",
        "id": "sWUnKPASeQ32"
      }
    },
    {
      "cell_type": "code",
      "source": [
        "# DATASET\n",
        "DATASET_COLUMNS = [\"target\", \"ids\", \"date\", \"flag\", \"user\", \"text\"]\n",
        "DATASET_ENCODING = \"ISO-8859-1\"\n",
        "TRAIN_SIZE = 0.8\n",
        "\n",
        "# TEXT CLENAING\n",
        "TEXT_CLEANING_RE = \"@\\S+|https?:\\S+|http?:\\S|[^A-Za-z0-9]+\"\n",
        "\n",
        "# WORD2VEC\n",
        "W2V_SIZE = 300\n",
        "W2V_WINDOW = 7\n",
        "W2V_EPOCH = 32\n",
        "W2V_MIN_COUNT = 10\n",
        "\n",
        "# KERAS\n",
        "SEQUENCE_LENGTH = 300\n",
        "EPOCHS = 8\n",
        "BATCH_SIZE = 1024\n",
        "\n",
        "# SENTIMENT\n",
        "POSITIVE = \"POSITIVE\"\n",
        "NEGATIVE = \"NEGATIVE\"\n",
        "NEUTRAL = \"NEUTRAL\"\n",
        "SENTIMENT_THRESHOLDS = (0.4, 0.7)"
      ],
      "metadata": {
        "_uuid": "180f0dd2a95419e4602b5c0229822b0111c826f6",
        "execution": {
          "iopub.status.busy": "2023-09-12T10:53:09.260171Z",
          "iopub.execute_input": "2023-09-12T10:53:09.260737Z",
          "iopub.status.idle": "2023-09-12T10:53:09.268234Z",
          "shell.execute_reply.started": "2023-09-12T10:53:09.260668Z",
          "shell.execute_reply": "2023-09-12T10:53:09.267488Z"
        },
        "trusted": true,
        "id": "zeIskjhReQ33"
      },
      "execution_count": null,
      "outputs": []
    },
    {
      "cell_type": "markdown",
      "source": [
        "### Read Dataset"
      ],
      "metadata": {
        "_uuid": "1c3beecc618be68480b3d4f0de08d9d863da1dc1",
        "id": "bhsVPUrGeQ33"
      }
    },
    {
      "cell_type": "markdown",
      "source": [
        "### Dataset details\n",
        "* **target**: the polarity of the tweet (0 = negative, 2 = neutral, 4 = positive)\n",
        "* **ids**: The id of the tweet ( 2087)\n",
        "* **date**: the date of the tweet (Sat May 16 23:58:44 UTC 2009)\n",
        "* **flag**: The query (lyx). If there is no query, then this value is NO_QUERY.\n",
        "* **user**: the user that tweeted (robotickilldozr)\n",
        "* **text**: the text of the tweet (Lyx is cool)"
      ],
      "metadata": {
        "_uuid": "563b3c44f1092dba0b853747b098e00509098cca",
        "id": "8d5semkMeQ33"
      }
    },
    {
      "cell_type": "code",
      "source": [
        "dataset_filename = os.listdir(\"../input\")[0]\n",
        "dataset_path = os.path.join(\"..\",\"input\",dataset_filename)\n",
        "print(\"Open file:\", dataset_path)\n",
        "df = pd.read_csv(dataset_path, encoding =DATASET_ENCODING , names=DATASET_COLUMNS)"
      ],
      "metadata": {
        "_uuid": "bba8f91cd70de4f5ea0fb0870ae2029b6e3dcc24",
        "execution": {
          "iopub.status.busy": "2023-09-12T10:53:09.270616Z",
          "iopub.execute_input": "2023-09-12T10:53:09.271110Z",
          "iopub.status.idle": "2023-09-12T10:53:17.171510Z",
          "shell.execute_reply.started": "2023-09-12T10:53:09.271057Z",
          "shell.execute_reply": "2023-09-12T10:53:17.170622Z"
        },
        "trusted": true,
        "id": "ejosX7bYeQ33",
        "outputId": "c2e3137f-a763-47b1-ea56-c39f54aaee19"
      },
      "execution_count": null,
      "outputs": [
        {
          "name": "stdout",
          "text": "Open file: ../input/training.1600000.processed.noemoticon.csv\n",
          "output_type": "stream"
        }
      ]
    },
    {
      "cell_type": "code",
      "source": [
        "print(\"Dataset size:\", len(df))"
      ],
      "metadata": {
        "_uuid": "936d499c00c4f1648bc16ca9d283c3b39be7fb10",
        "execution": {
          "iopub.status.busy": "2023-09-12T10:53:17.174154Z",
          "iopub.execute_input": "2023-09-12T10:53:17.174803Z",
          "iopub.status.idle": "2023-09-12T10:53:17.180957Z",
          "shell.execute_reply.started": "2023-09-12T10:53:17.174713Z",
          "shell.execute_reply": "2023-09-12T10:53:17.180023Z"
        },
        "trusted": true,
        "id": "Cd-viE-0eQ34",
        "outputId": "25f7f76a-6718-4929-b93a-e5f26cc45ea8"
      },
      "execution_count": null,
      "outputs": [
        {
          "name": "stdout",
          "text": "Dataset size: 1600000\n",
          "output_type": "stream"
        }
      ]
    },
    {
      "cell_type": "code",
      "source": [
        "df.head(5)"
      ],
      "metadata": {
        "_uuid": "7486ed895b813c5246f97b31b6162b0f65ff763b",
        "execution": {
          "iopub.status.busy": "2023-09-12T10:53:17.182950Z",
          "iopub.execute_input": "2023-09-12T10:53:17.183426Z",
          "iopub.status.idle": "2023-09-12T10:53:17.224740Z",
          "shell.execute_reply.started": "2023-09-12T10:53:17.183217Z",
          "shell.execute_reply": "2023-09-12T10:53:17.223639Z"
        },
        "trusted": true,
        "id": "hgC6M118eQ34",
        "outputId": "4a4205e2-494c-4efb-ec03-ddcdaaecc533"
      },
      "execution_count": null,
      "outputs": [
        {
          "execution_count": 6,
          "output_type": "execute_result",
          "data": {
            "text/plain": "   target                        ...                                                                       text\n0       0                        ...                          @switchfoot http://twitpic.com/2y1zl - Awww, t...\n1       0                        ...                          is upset that he can't update his Facebook by ...\n2       0                        ...                          @Kenichan I dived many times for the ball. Man...\n3       0                        ...                            my whole body feels itchy and like its on fire \n4       0                        ...                          @nationwideclass no, it's not behaving at all....\n\n[5 rows x 6 columns]",
            "text/html": "<div>\n<style scoped>\n    .dataframe tbody tr th:only-of-type {\n        vertical-align: middle;\n    }\n\n    .dataframe tbody tr th {\n        vertical-align: top;\n    }\n\n    .dataframe thead th {\n        text-align: right;\n    }\n</style>\n<table border=\"1\" class=\"dataframe\">\n  <thead>\n    <tr style=\"text-align: right;\">\n      <th></th>\n      <th>target</th>\n      <th>ids</th>\n      <th>date</th>\n      <th>flag</th>\n      <th>user</th>\n      <th>text</th>\n    </tr>\n  </thead>\n  <tbody>\n    <tr>\n      <th>0</th>\n      <td>0</td>\n      <td>1467810369</td>\n      <td>Mon Apr 06 22:19:45 PDT 2009</td>\n      <td>NO_QUERY</td>\n      <td>_TheSpecialOne_</td>\n      <td>@switchfoot http://twitpic.com/2y1zl - Awww, t...</td>\n    </tr>\n    <tr>\n      <th>1</th>\n      <td>0</td>\n      <td>1467810672</td>\n      <td>Mon Apr 06 22:19:49 PDT 2009</td>\n      <td>NO_QUERY</td>\n      <td>scotthamilton</td>\n      <td>is upset that he can't update his Facebook by ...</td>\n    </tr>\n    <tr>\n      <th>2</th>\n      <td>0</td>\n      <td>1467810917</td>\n      <td>Mon Apr 06 22:19:53 PDT 2009</td>\n      <td>NO_QUERY</td>\n      <td>mattycus</td>\n      <td>@Kenichan I dived many times for the ball. Man...</td>\n    </tr>\n    <tr>\n      <th>3</th>\n      <td>0</td>\n      <td>1467811184</td>\n      <td>Mon Apr 06 22:19:57 PDT 2009</td>\n      <td>NO_QUERY</td>\n      <td>ElleCTF</td>\n      <td>my whole body feels itchy and like its on fire</td>\n    </tr>\n    <tr>\n      <th>4</th>\n      <td>0</td>\n      <td>1467811193</td>\n      <td>Mon Apr 06 22:19:57 PDT 2009</td>\n      <td>NO_QUERY</td>\n      <td>Karoli</td>\n      <td>@nationwideclass no, it's not behaving at all....</td>\n    </tr>\n  </tbody>\n</table>\n</div>"
          },
          "metadata": {}
        }
      ]
    },
    {
      "cell_type": "markdown",
      "source": [
        "### Map target label to String\n",
        "* **0** -> **NEGATIVE**\n",
        "* **2** -> **NEUTRAL**\n",
        "* **4** -> **POSITIVE**"
      ],
      "metadata": {
        "_uuid": "3f9a7bb129e184967b13261fb5d253af451c75c5",
        "id": "OWnB4px2eQ34"
      }
    },
    {
      "cell_type": "code",
      "source": [
        "decode_map = {0: \"NEGATIVE\", 2: \"NEUTRAL\", 4: \"POSITIVE\"}\n",
        "def decode_sentiment(label):\n",
        "    return decode_map[int(label)]"
      ],
      "metadata": {
        "_uuid": "14074b59106cb9550440839e48b832223fc9502f",
        "execution": {
          "iopub.status.busy": "2023-09-12T10:53:17.226421Z",
          "iopub.execute_input": "2023-09-12T10:53:17.226912Z",
          "iopub.status.idle": "2023-09-12T10:53:17.234629Z",
          "shell.execute_reply.started": "2023-09-12T10:53:17.226704Z",
          "shell.execute_reply": "2023-09-12T10:53:17.233613Z"
        },
        "trusted": true,
        "id": "kh_vKKvCeQ34"
      },
      "execution_count": null,
      "outputs": []
    },
    {
      "cell_type": "code",
      "source": [
        "%%time\n",
        "df.target = df.target.apply(lambda x: decode_sentiment(x))"
      ],
      "metadata": {
        "_uuid": "4449d473187f647a195a6ac6986b009da32a7f4b",
        "execution": {
          "iopub.status.busy": "2023-09-12T10:53:17.236306Z",
          "iopub.execute_input": "2023-09-12T10:53:17.237313Z",
          "iopub.status.idle": "2023-09-12T10:53:18.347139Z",
          "shell.execute_reply.started": "2023-09-12T10:53:17.236581Z",
          "shell.execute_reply": "2023-09-12T10:53:18.346332Z"
        },
        "trusted": true,
        "id": "b1Q4nAsleQ34",
        "outputId": "a032b696-6d21-4a34-a217-99feb5afe1a8"
      },
      "execution_count": null,
      "outputs": [
        {
          "name": "stdout",
          "text": "CPU times: user 1.05 s, sys: 39.8 ms, total: 1.09 s\nWall time: 1.09 s\n",
          "output_type": "stream"
        }
      ]
    },
    {
      "cell_type": "code",
      "source": [
        "target_cnt = Counter(df.target)\n",
        "\n",
        "plt.figure(figsize=(16,8))\n",
        "plt.bar(target_cnt.keys(), target_cnt.values())\n",
        "plt.title(\"Dataset labels distribuition\")"
      ],
      "metadata": {
        "_uuid": "19eb327803192f31cce3512aacb232f4d6b38715",
        "execution": {
          "iopub.status.busy": "2023-09-12T10:53:18.348546Z",
          "iopub.execute_input": "2023-09-12T10:53:18.349108Z",
          "iopub.status.idle": "2023-09-12T10:53:18.861003Z",
          "shell.execute_reply.started": "2023-09-12T10:53:18.349053Z",
          "shell.execute_reply": "2023-09-12T10:53:18.860212Z"
        },
        "trusted": true,
        "id": "BIlw_LAgeQ35",
        "outputId": "e9454bad-2744-4b89-f5aa-fa83e93b72b9"
      },
      "execution_count": null,
      "outputs": [
        {
          "execution_count": 9,
          "output_type": "execute_result",
          "data": {
            "text/plain": "Text(0.5,1,'Dataset labels distribuition')"
          },
          "metadata": {}
        },
        {
          "output_type": "display_data",
          "data": {
            "text/plain": "<Figure size 1152x576 with 1 Axes>",
            "image/png": "[encoded data removed]"
          },
          "metadata": {}
        }
      ]
    },
    {
      "cell_type": "markdown",
      "source": [
        "### Pre-Process dataset"
      ],
      "metadata": {
        "_uuid": "4329b1573518b03e497213efa7676220734ebb4b",
        "id": "VyN7-SIleQ35"
      }
    },
    {
      "cell_type": "code",
      "source": [
        "stop_words = stopwords.words(\"english\")\n",
        "stemmer = SnowballStemmer(\"english\")"
      ],
      "metadata": {
        "_uuid": "8aeee8b7b9ea11b749c7f91cd4787a7b50ed1a91",
        "execution": {
          "iopub.status.busy": "2023-09-12T10:53:18.862291Z",
          "iopub.execute_input": "2023-09-12T10:53:18.862781Z",
          "iopub.status.idle": "2023-09-12T10:53:18.869600Z",
          "shell.execute_reply.started": "2023-09-12T10:53:18.862711Z",
          "shell.execute_reply": "2023-09-12T10:53:18.868830Z"
        },
        "trusted": true,
        "id": "DtUuUxQTeQ35"
      },
      "execution_count": null,
      "outputs": []
    },
    {
      "cell_type": "code",
      "source": [
        "def preprocess(text, stem=False):\n",
        "    # Remove link,user and special characters\n",
        "    text = re.sub(TEXT_CLEANING_RE, ' ', str(text).lower()).strip()\n",
        "    tokens = []\n",
        "    for token in text.split():\n",
        "        if token not in stop_words:\n",
        "            if stem:\n",
        "                tokens.append(stemmer.stem(token))\n",
        "            else:\n",
        "                tokens.append(token)\n",
        "    return \" \".join(tokens)"
      ],
      "metadata": {
        "_uuid": "649ebcb97969b9ac4301138783704bb3d7846a49",
        "execution": {
          "iopub.status.busy": "2023-09-12T10:53:18.871076Z",
          "iopub.execute_input": "2023-09-12T10:53:18.871753Z",
          "iopub.status.idle": "2023-09-12T10:53:18.884382Z",
          "shell.execute_reply.started": "2023-09-12T10:53:18.871503Z",
          "shell.execute_reply": "2023-09-12T10:53:18.883776Z"
        },
        "trusted": true,
        "id": "3YrZ4uwieQ35"
      },
      "execution_count": null,
      "outputs": []
    },
    {
      "cell_type": "code",
      "source": [
        "%%time\n",
        "df.text = df.text.apply(lambda x: preprocess(x))"
      ],
      "metadata": {
        "_uuid": "f7f3e77ab9291d14687c49e71ba9b2b1e3323432",
        "execution": {
          "iopub.status.busy": "2023-09-12T10:53:18.886037Z",
          "iopub.execute_input": "2023-09-12T10:53:18.886571Z",
          "iopub.status.idle": "2023-09-12T10:54:27.910815Z",
          "shell.execute_reply.started": "2023-09-12T10:53:18.886455Z",
          "shell.execute_reply": "2023-09-12T10:54:27.908882Z"
        },
        "trusted": true,
        "id": "mr1JjaoyeQ36",
        "outputId": "4d559fa3-95a5-4a18-c631-8d20292f81e3"
      },
      "execution_count": null,
      "outputs": [
        {
          "name": "stdout",
          "text": "CPU times: user 1min 8s, sys: 207 ms, total: 1min 8s\nWall time: 1min 9s\n",
          "output_type": "stream"
        }
      ]
    },
    {
      "cell_type": "markdown",
      "source": [
        "### Split train and test"
      ],
      "metadata": {
        "_uuid": "f5f9714a8507409bbe780eebf2855a33e8e6ba37",
        "trusted": true,
        "id": "qkshTCweeQ36"
      }
    },
    {
      "cell_type": "code",
      "source": [
        "df_train, df_test = train_test_split(df, test_size=1-TRAIN_SIZE, random_state=42)\n",
        "print(\"TRAIN size:\", len(df_train))\n",
        "print(\"TEST size:\", len(df_test))"
      ],
      "metadata": {
        "_uuid": "d2b1179c968e3f3910c790ecf0c5b2cbb34b0e68",
        "execution": {
          "iopub.status.busy": "2023-09-12T10:54:27.912167Z",
          "iopub.execute_input": "2023-09-12T10:54:27.912466Z",
          "iopub.status.idle": "2023-09-12T10:54:28.982578Z",
          "shell.execute_reply.started": "2023-09-12T10:54:27.912402Z",
          "shell.execute_reply": "2023-09-12T10:54:28.981643Z"
        },
        "trusted": true,
        "id": "gUDf9UBTeQ36",
        "outputId": "ae399031-c2e8-4a48-c844-85f680da229d"
      },
      "execution_count": null,
      "outputs": [
        {
          "name": "stdout",
          "text": "TRAIN size: 1280000\nTEST size: 320000\n",
          "output_type": "stream"
        }
      ]
    },
    {
      "cell_type": "markdown",
      "source": [
        "### Word2Vec"
      ],
      "metadata": {
        "_uuid": "f08a28aab2c3d16d8b9681a7d5d07587153a1cd6",
        "id": "7wVxk3r0eQ36"
      }
    },
    {
      "cell_type": "code",
      "source": [
        "%%time\n",
        "documents = [_text.split() for _text in df_train.text]"
      ],
      "metadata": {
        "_uuid": "2461bf564de1b4414841933d0c1d1bee5f5cc5a6",
        "execution": {
          "iopub.status.busy": "2023-09-12T10:54:28.983996Z",
          "iopub.execute_input": "2023-09-12T10:54:28.984292Z",
          "iopub.status.idle": "2023-09-12T10:54:32.414163Z",
          "shell.execute_reply.started": "2023-09-12T10:54:28.984238Z",
          "shell.execute_reply": "2023-09-12T10:54:32.413351Z"
        },
        "trusted": true,
        "id": "oRo6VAjkeQ37",
        "outputId": "011695b9-573f-474d-cf9b-90fed811130c"
      },
      "execution_count": null,
      "outputs": [
        {
          "name": "stdout",
          "text": "CPU times: user 3.1 s, sys: 322 ms, total: 3.43 s\nWall time: 3.42 s\n",
          "output_type": "stream"
        }
      ]
    },
    {
      "cell_type": "code",
      "source": [
        "w2v_model = gensim.models.word2vec.Word2Vec(size=W2V_SIZE,\n",
        "                                            window=W2V_WINDOW,\n",
        "                                            min_count=W2V_MIN_COUNT,\n",
        "                                            workers=8)"
      ],
      "metadata": {
        "_uuid": "8e19b9f25801ba86420decc266d2b3e6fb44f1ea",
        "execution": {
          "iopub.status.busy": "2023-09-12T10:54:32.415660Z",
          "iopub.execute_input": "2023-09-12T10:54:32.416236Z",
          "iopub.status.idle": "2023-09-12T10:54:32.421518Z",
          "shell.execute_reply.started": "2023-09-12T10:54:32.416181Z",
          "shell.execute_reply": "2023-09-12T10:54:32.420691Z"
        },
        "trusted": true,
        "id": "YgRFlvD6eQ37"
      },
      "execution_count": null,
      "outputs": []
    },
    {
      "cell_type": "code",
      "source": [
        "w2v_model.build_vocab(documents)"
      ],
      "metadata": {
        "_uuid": "58d655af07653c594bec6bebcfb302a973b0ad9c",
        "execution": {
          "iopub.status.busy": "2023-09-12T10:54:32.422881Z",
          "iopub.execute_input": "2023-09-12T10:54:32.423393Z",
          "iopub.status.idle": "2023-09-12T10:54:37.758104Z",
          "shell.execute_reply.started": "2023-09-12T10:54:32.423341Z",
          "shell.execute_reply": "2023-09-12T10:54:37.757227Z"
        },
        "trusted": true,
        "id": "svD0oDqfeQ37"
      },
      "execution_count": null,
      "outputs": []
    },
    {
      "cell_type": "code",
      "source": [
        "words = w2v_model.wv.vocab.keys()\n",
        "vocab_size = len(words)\n",
        "print(\"Vocab size\", vocab_size)"
      ],
      "metadata": {
        "_uuid": "72a5628ca81fd4b8983c12d93ae0bf950b86b6ae",
        "execution": {
          "iopub.status.busy": "2023-09-12T10:54:37.759497Z",
          "iopub.execute_input": "2023-09-12T10:54:37.759986Z",
          "iopub.status.idle": "2023-09-12T10:54:37.765546Z",
          "shell.execute_reply.started": "2023-09-12T10:54:37.759759Z",
          "shell.execute_reply": "2023-09-12T10:54:37.764550Z"
        },
        "trusted": true,
        "id": "MovMoiefeQ37",
        "outputId": "70c56064-929c-47b1-bc9f-b208dcb0c7af"
      },
      "execution_count": null,
      "outputs": [
        {
          "name": "stdout",
          "text": "Vocab size 30369\n",
          "output_type": "stream"
        }
      ]
    },
    {
      "cell_type": "code",
      "source": [
        "%%time\n",
        "w2v_model.train(documents, total_examples=len(documents), epochs=W2V_EPOCH)"
      ],
      "metadata": {
        "_uuid": "68c3e4a5ba07cac3dee67f78ecdd1404c7f83f14",
        "execution": {
          "iopub.status.busy": "2023-09-12T10:54:37.766933Z",
          "iopub.execute_input": "2023-09-12T10:54:37.767467Z",
          "iopub.status.idle": "2023-09-12T11:07:15.453369Z",
          "shell.execute_reply.started": "2023-09-12T10:54:37.767259Z",
          "shell.execute_reply": "2023-09-12T11:07:15.452498Z"
        },
        "trusted": true,
        "id": "IlVOrHTmeQ37"
      },
      "execution_count": null,
      "outputs": []
    },
    {
      "cell_type": "code",
      "source": [
        "w2v_model.most_similar(\"love\")"
      ],
      "metadata": {
        "_uuid": "27cc2651c74227115d8bfd8c40e5618048e05edd",
        "execution": {
          "iopub.status.busy": "2023-09-12T11:07:15.454551Z",
          "iopub.execute_input": "2023-09-12T11:07:15.454857Z",
          "iopub.status.idle": "2023-09-12T11:07:15.560455Z",
          "shell.execute_reply.started": "2023-09-12T11:07:15.454805Z",
          "shell.execute_reply": "2023-09-12T11:07:15.559557Z"
        },
        "trusted": true,
        "id": "WsFaGZlleQ38",
        "outputId": "0153a82c-c592-4e6f-9a8b-2f357ba1a557"
      },
      "execution_count": null,
      "outputs": [
        {
          "name": "stderr",
          "text": "/opt/conda/lib/python3.6/site-packages/ipykernel_launcher.py:1: DeprecationWarning: Call to deprecated `most_similar` (Method will be removed in 4.0.0, use self.wv.most_similar() instead).\n  \"\"\"Entry point for launching an IPython kernel.\n2023-09-12 11:07:15,456 : INFO : precomputing L2-norms of word weight vectors\n/opt/conda/lib/python3.6/site-packages/gensim/matutils.py:737: FutureWarning: Conversion of the second argument of issubdtype from `int` to `np.signedinteger` is deprecated. In future, it will be treated as `np.int64 == np.dtype(int).type`.\n  if np.issubdtype(vec.dtype, np.int):\n",
          "output_type": "stream"
        },
        {
          "execution_count": 19,
          "output_type": "execute_result",
          "data": {
            "text/plain": "[('luv', 0.5595492720603943),\n ('loves', 0.558455228805542),\n ('adore', 0.5404701828956604),\n ('loved', 0.5306429266929626),\n ('amazing', 0.4968940019607544),\n ('looove', 0.49683165550231934),\n ('loveee', 0.45965802669525146),\n ('awesome', 0.4561821222305298),\n ('lovee', 0.44516319036483765),\n ('miss', 0.4403744339942932)]"
          },
          "metadata": {}
        }
      ]
    },
    {
      "cell_type": "markdown",
      "source": [
        "### Tokenize Text"
      ],
      "metadata": {
        "_uuid": "e13563644468037258598637b49373ca96b9b879",
        "id": "pBysVFxYeQ38"
      }
    },
    {
      "cell_type": "code",
      "source": [
        "%%time\n",
        "tokenizer = Tokenizer()\n",
        "tokenizer.fit_on_texts(df_train.text)\n",
        "\n",
        "vocab_size = len(tokenizer.word_index) + 1\n",
        "print(\"Total words\", vocab_size)"
      ],
      "metadata": {
        "_uuid": "6852bc709a7cd20173cbeeb218505078f8f37c57",
        "execution": {
          "iopub.status.busy": "2023-09-12T11:07:15.562046Z",
          "iopub.execute_input": "2023-09-12T11:07:15.562446Z",
          "iopub.status.idle": "2023-09-12T11:07:44.159501Z",
          "shell.execute_reply.started": "2023-09-12T11:07:15.562330Z",
          "shell.execute_reply": "2023-09-12T11:07:44.158660Z"
        },
        "trusted": true,
        "id": "2MtTN7vleQ38",
        "outputId": "b5be3116-3975-473a-8fd6-50761152bd0d"
      },
      "execution_count": null,
      "outputs": [
        {
          "name": "stdout",
          "text": "Total words 290419\nCPU times: user 28.5 s, sys: 184 ms, total: 28.6 s\nWall time: 28.6 s\n",
          "output_type": "stream"
        }
      ]
    },
    {
      "cell_type": "code",
      "source": [
        "%%time\n",
        "x_train = pad_sequences(tokenizer.texts_to_sequences(df_train.text), maxlen=SEQUENCE_LENGTH)\n",
        "x_test = pad_sequences(tokenizer.texts_to_sequences(df_test.text), maxlen=SEQUENCE_LENGTH)"
      ],
      "metadata": {
        "_uuid": "45de439df3015030c71f84c2d170346936a1d68f",
        "execution": {
          "iopub.status.busy": "2023-09-12T11:07:44.160923Z",
          "iopub.execute_input": "2023-09-12T11:07:44.161471Z",
          "iopub.status.idle": "2023-09-12T11:08:30.510282Z",
          "shell.execute_reply.started": "2023-09-12T11:07:44.161414Z",
          "shell.execute_reply": "2023-09-12T11:08:30.508706Z"
        },
        "trusted": true,
        "id": "bvWzQAbSeQ38",
        "outputId": "665bad15-09df-4e53-8f8f-925f8860a428"
      },
      "execution_count": null,
      "outputs": [
        {
          "name": "stdout",
          "text": "CPU times: user 45.2 s, sys: 1.09 s, total: 46.3 s\nWall time: 46.3 s\n",
          "output_type": "stream"
        }
      ]
    },
    {
      "cell_type": "markdown",
      "source": [
        "### Label Encoder"
      ],
      "metadata": {
        "_uuid": "03b35903fc6260e190d6928d240ef7432de117fc",
        "id": "qOBtZa16eQ38"
      }
    },
    {
      "cell_type": "code",
      "source": [
        "labels = df_train.target.unique().tolist()\n",
        "labels.append(NEUTRAL)\n",
        "labels"
      ],
      "metadata": {
        "_uuid": "33676e0efa39e97d89bd650b8b4eae933a22fbf0",
        "execution": {
          "iopub.status.busy": "2023-09-12T11:08:30.511537Z",
          "iopub.execute_input": "2023-09-12T11:08:30.511850Z",
          "iopub.status.idle": "2023-09-12T11:08:30.575496Z",
          "shell.execute_reply.started": "2023-09-12T11:08:30.511795Z",
          "shell.execute_reply": "2023-09-12T11:08:30.573809Z"
        },
        "trusted": true,
        "id": "oC7E8m9HeQ38",
        "outputId": "9b27584d-3745-4a8c-fcc8-ae0f4688eae8"
      },
      "execution_count": null,
      "outputs": [
        {
          "execution_count": 22,
          "output_type": "execute_result",
          "data": {
            "text/plain": "['POSITIVE', 'NEGATIVE', 'NEUTRAL']"
          },
          "metadata": {}
        }
      ]
    },
    {
      "cell_type": "code",
      "source": [
        "encoder = LabelEncoder()\n",
        "encoder.fit(df_train.target.tolist())\n",
        "\n",
        "y_train = encoder.transform(df_train.target.tolist())\n",
        "y_test = encoder.transform(df_test.target.tolist())\n",
        "\n",
        "y_train = y_train.reshape(-1,1)\n",
        "y_test = y_test.reshape(-1,1)\n",
        "\n",
        "print(\"y_train\",y_train.shape)\n",
        "print(\"y_test\",y_test.shape)"
      ],
      "metadata": {
        "_uuid": "04239a9bef76e7922fd86098a5601dfde8ee4665",
        "execution": {
          "iopub.status.busy": "2023-09-12T11:08:30.576752Z",
          "iopub.execute_input": "2023-09-12T11:08:30.577229Z",
          "iopub.status.idle": "2023-09-12T11:08:32.022675Z",
          "shell.execute_reply.started": "2023-09-12T11:08:30.577017Z",
          "shell.execute_reply": "2023-09-12T11:08:32.020563Z"
        },
        "trusted": true,
        "id": "RNCKBhBpeQ39",
        "outputId": "209dd3fb-7ccf-4cad-f68e-c1dd13bf9bbd"
      },
      "execution_count": null,
      "outputs": [
        {
          "name": "stdout",
          "text": "y_train (1280000, 1)\ny_test (320000, 1)\n",
          "output_type": "stream"
        }
      ]
    },
    {
      "cell_type": "code",
      "source": [
        "print(\"x_train\", x_train.shape)\n",
        "print(\"y_train\", y_train.shape)\n",
        "print()\n",
        "print(\"x_test\", x_test.shape)\n",
        "print(\"y_test\", y_test.shape)"
      ],
      "metadata": {
        "_uuid": "04299c886911ca135583ab64878f213939a2990c",
        "execution": {
          "iopub.status.busy": "2023-09-12T11:08:32.023995Z",
          "iopub.execute_input": "2023-09-12T11:08:32.024299Z",
          "iopub.status.idle": "2023-09-12T11:08:32.033470Z",
          "shell.execute_reply.started": "2023-09-12T11:08:32.024244Z",
          "shell.execute_reply": "2023-09-12T11:08:32.032521Z"
        },
        "trusted": true,
        "id": "tem5Zj0reQ39",
        "outputId": "12c7c620-1edf-41c2-949f-f81260e091ca"
      },
      "execution_count": null,
      "outputs": [
        {
          "name": "stdout",
          "text": "x_train (1280000, 300)\ny_train (1280000, 1)\n\nx_test (320000, 300)\ny_test (320000, 1)\n",
          "output_type": "stream"
        }
      ]
    },
    {
      "cell_type": "code",
      "source": [
        "y_train[:10]"
      ],
      "metadata": {
        "_uuid": "232533fb27b7be99d9b8c2f8fb22c9c6bf121a6f",
        "execution": {
          "iopub.status.busy": "2023-09-12T11:08:32.035310Z",
          "iopub.execute_input": "2023-09-12T11:08:32.035548Z",
          "iopub.status.idle": "2023-09-12T11:08:32.046778Z",
          "shell.execute_reply.started": "2023-09-12T11:08:32.035512Z",
          "shell.execute_reply": "2023-09-12T11:08:32.045757Z"
        },
        "trusted": true,
        "id": "_vfE69iHeQ39",
        "outputId": "7312c931-328b-40ea-9ca6-85162b53746b"
      },
      "execution_count": null,
      "outputs": [
        {
          "execution_count": 25,
          "output_type": "execute_result",
          "data": {
            "text/plain": "array([[1],\n       [1],\n       [1],\n       [0],\n       [1],\n       [1],\n       [1],\n       [1],\n       [1],\n       [1]])"
          },
          "metadata": {}
        }
      ]
    },
    {
      "cell_type": "markdown",
      "source": [
        "### Embedding layer"
      ],
      "metadata": {
        "_uuid": "233c0ea94055a03e2e7df3e2a13d036ec963484f",
        "id": "CkrSLJFUeQ39"
      }
    },
    {
      "cell_type": "code",
      "source": [
        "embedding_matrix = np.zeros((vocab_size, W2V_SIZE))\n",
        "for word, i in tokenizer.word_index.items():\n",
        "  if word in w2v_model.wv:\n",
        "    embedding_matrix[i] = w2v_model.wv[word]\n",
        "print(embedding_matrix.shape)"
      ],
      "metadata": {
        "_uuid": "9ab488374b59e3f30f8b1ea92767d853c4846bac",
        "execution": {
          "iopub.status.busy": "2023-09-12T11:08:32.048149Z",
          "iopub.execute_input": "2023-09-12T11:08:32.048657Z",
          "iopub.status.idle": "2023-09-12T11:08:32.434735Z",
          "shell.execute_reply.started": "2023-09-12T11:08:32.048466Z",
          "shell.execute_reply": "2023-09-12T11:08:32.433874Z"
        },
        "trusted": true,
        "id": "301_10myeQ39",
        "outputId": "d004dffa-c88b-4598-ecb7-c4a6da042c90"
      },
      "execution_count": null,
      "outputs": [
        {
          "name": "stdout",
          "text": "(290419, 300)\n",
          "output_type": "stream"
        }
      ]
    },
    {
      "cell_type": "code",
      "source": [
        "embedding_layer = Embedding(vocab_size, W2V_SIZE, weights=[embedding_matrix], input_length=SEQUENCE_LENGTH, trainable=False)"
      ],
      "metadata": {
        "_uuid": "833279d91e4286065968237fb5f2a0c2dd4d246c",
        "execution": {
          "iopub.status.busy": "2023-09-12T11:08:32.436073Z",
          "iopub.execute_input": "2023-09-12T11:08:32.436566Z",
          "iopub.status.idle": "2023-09-12T11:08:32.467830Z",
          "shell.execute_reply.started": "2023-09-12T11:08:32.436508Z",
          "shell.execute_reply": "2023-09-12T11:08:32.467086Z"
        },
        "trusted": true,
        "id": "-ILQW7ILeQ39"
      },
      "execution_count": null,
      "outputs": []
    },
    {
      "cell_type": "markdown",
      "source": [
        "### Build Model"
      ],
      "metadata": {
        "_uuid": "b299ef78f94c2085942c993a2d58753a7476305a",
        "id": "dkKvIB37eQ3-"
      }
    },
    {
      "cell_type": "code",
      "source": [
        "model = Sequential()\n",
        "model.add(embedding_layer)\n",
        "model.add(Dropout(0.5))\n",
        "model.add(LSTM(100, dropout=0.2, recurrent_dropout=0.2))\n",
        "model.add(Dense(1, activation='sigmoid'))\n",
        "\n",
        "model.summary()"
      ],
      "metadata": {
        "_uuid": "e775ef4f1b74e6412457181383c39f2df554ef3f",
        "execution": {
          "iopub.status.busy": "2023-09-12T11:08:32.469436Z",
          "iopub.execute_input": "2023-09-12T11:08:32.469981Z",
          "iopub.status.idle": "2023-09-12T11:08:35.885916Z",
          "shell.execute_reply.started": "2023-09-12T11:08:32.469928Z",
          "shell.execute_reply": "2023-09-12T11:08:35.885012Z"
        },
        "trusted": true,
        "id": "s8CO_PQAeQ3-",
        "outputId": "92f4c7c1-1f70-4ed1-9392-488b3e9fa076"
      },
      "execution_count": null,
      "outputs": [
        {
          "name": "stdout",
          "text": "_________________________________________________________________\nLayer (type)                 Output Shape              Param #   \n=================================================================\nembedding_1 (Embedding)      (None, 300, 300)          87125700  \n_________________________________________________________________\ndropout_1 (Dropout)          (None, 300, 300)          0         \n_________________________________________________________________\nlstm_1 (LSTM)                (None, 100)               160400    \n_________________________________________________________________\ndense_1 (Dense)              (None, 1)                 101       \n=================================================================\nTotal params: 87,286,201\nTrainable params: 160,501\nNon-trainable params: 87,125,700\n_________________________________________________________________\n",
          "output_type": "stream"
        }
      ]
    },
    {
      "cell_type": "markdown",
      "source": [
        "### Compile model"
      ],
      "metadata": {
        "_uuid": "28d22eafd0c7d798dcf3d742bc92fb8577939e6c",
        "id": "S2nfc6QreQ3-"
      }
    },
    {
      "cell_type": "code",
      "source": [
        "model.compile(loss='binary_crossentropy',\n",
        "              optimizer=\"adam\",\n",
        "              metrics=['accuracy'])"
      ],
      "metadata": {
        "_uuid": "1331e08d590bb2aa2033706c8faca217afc0f1c3",
        "execution": {
          "iopub.status.busy": "2023-09-12T11:08:35.887314Z",
          "iopub.execute_input": "2023-09-12T11:08:35.887684Z",
          "iopub.status.idle": "2023-09-12T11:08:35.942164Z",
          "shell.execute_reply.started": "2023-09-12T11:08:35.887624Z",
          "shell.execute_reply": "2023-09-12T11:08:35.941427Z"
        },
        "trusted": true,
        "id": "2I3KeOUaeQ3-"
      },
      "execution_count": null,
      "outputs": []
    },
    {
      "cell_type": "markdown",
      "source": [
        "### Callbacks"
      ],
      "metadata": {
        "_uuid": "c7733127cb8b380e0c807268903bf4d03ef92542",
        "id": "9JW3QkCjeQ3_"
      }
    },
    {
      "cell_type": "code",
      "source": [
        "callbacks = [ ReduceLROnPlateau(monitor='val_loss', patience=5, cooldown=0),\n",
        "              EarlyStopping(monitor='val_acc', min_delta=1e-4, patience=5)]"
      ],
      "metadata": {
        "_uuid": "a688df590386f5748da6fe00b01904fe6c71619e",
        "execution": {
          "iopub.status.busy": "2023-09-12T11:08:35.943443Z",
          "iopub.execute_input": "2023-09-12T11:08:35.943741Z",
          "iopub.status.idle": "2023-09-12T11:08:35.948791Z",
          "shell.execute_reply.started": "2023-09-12T11:08:35.943673Z",
          "shell.execute_reply": "2023-09-12T11:08:35.947931Z"
        },
        "trusted": true,
        "id": "4cKzOi-_eQ3_"
      },
      "execution_count": null,
      "outputs": []
    },
    {
      "cell_type": "markdown",
      "source": [
        "### Train"
      ],
      "metadata": {
        "_uuid": "8d0873633dd49179c8cae17377641b97d323ef3b",
        "id": "X-YM26WteQ3_"
      }
    },
    {
      "cell_type": "code",
      "source": [
        "%%time\n",
        "history = model.fit(x_train, y_train,\n",
        "                    batch_size=BATCH_SIZE,\n",
        "                    epochs=EPOCHS,\n",
        "                    validation_split=0.1,\n",
        "                    verbose=1,\n",
        "                    callbacks=callbacks)"
      ],
      "metadata": {
        "_uuid": "2b659d390c6577dc5cdb6b6297934279b4e801d5",
        "execution": {
          "iopub.status.busy": "2023-09-12T11:08:35.950065Z",
          "iopub.execute_input": "2023-09-12T11:08:35.950596Z",
          "iopub.status.idle": "2023-09-12T12:23:26.625965Z",
          "shell.execute_reply.started": "2023-09-12T11:08:35.950543Z",
          "shell.execute_reply": "2023-09-12T12:23:26.625147Z"
        },
        "trusted": true,
        "id": "ohXfM3oyeQ3_",
        "outputId": "534e404a-43d0-416f-9bb1-df193f2ed440"
      },
      "execution_count": null,
      "outputs": [
        {
          "name": "stdout",
          "text": "Train on 1152000 samples, validate on 128000 samples\nEpoch 1/8\n1152000/1152000 [==============================] - 569s 494us/step - loss: 0.5050 - acc: 0.7500 - val_loss: 0.4632 - val_acc: 0.7793\nEpoch 2/8\n1152000/1152000 [==============================] - 561s 487us/step - loss: 0.4804 - acc: 0.7663 - val_loss: 0.4578 - val_acc: 0.7841\nEpoch 3/8\n1152000/1152000 [==============================] - 560s 486us/step - loss: 0.4737 - acc: 0.7709 - val_loss: 0.4536 - val_acc: 0.7860\nEpoch 4/8\n1152000/1152000 [==============================] - 559s 485us/step - loss: 0.4699 - acc: 0.7729 - val_loss: 0.4528 - val_acc: 0.7869\nEpoch 5/8\n1152000/1152000 [==============================] - 560s 486us/step - loss: 0.4676 - acc: 0.7744 - val_loss: 0.4523 - val_acc: 0.7880\nEpoch 6/8\n1152000/1152000 [==============================] - 561s 487us/step - loss: 0.4656 - acc: 0.7759 - val_loss: 0.4487 - val_acc: 0.7896\nEpoch 7/8\n1152000/1152000 [==============================] - 563s 489us/step - loss: 0.4640 - acc: 0.7770 - val_loss: 0.4477 - val_acc: 0.7907\nEpoch 8/8\n1152000/1152000 [==============================] - 557s 483us/step - loss: 0.4638 - acc: 0.7773 - val_loss: 0.4483 - val_acc: 0.7902\nCPU times: user 1h 38min 57s, sys: 4min 58s, total: 1h 43min 56s\nWall time: 1h 14min 50s\n",
          "output_type": "stream"
        }
      ]
    },
    {
      "cell_type": "markdown",
      "source": [
        "### Evaluate"
      ],
      "metadata": {
        "_uuid": "267258196d96796ac69a7b8c466314bcf5d6ee42",
        "id": "f7SkM7FLeQ3_"
      }
    },
    {
      "cell_type": "code",
      "source": [
        "%%time\n",
        "score = model.evaluate(x_test, y_test, batch_size=BATCH_SIZE)\n",
        "print()\n",
        "print(\"ACCURACY:\",score[1])\n",
        "print(\"LOSS:\",score[0])"
      ],
      "metadata": {
        "_uuid": "98ecd8f1b8b74594c3ea775dd68a094e92458022",
        "execution": {
          "iopub.status.busy": "2023-09-12T12:23:26.627704Z",
          "iopub.execute_input": "2023-09-12T12:23:26.628019Z",
          "iopub.status.idle": "2023-09-12T12:24:22.044553Z",
          "shell.execute_reply.started": "2023-09-12T12:23:26.627968Z",
          "shell.execute_reply": "2023-09-12T12:24:22.043683Z"
        },
        "trusted": true,
        "id": "DdwTA43teQ3_",
        "outputId": "851ff1cb-bc4b-4cd8-be3b-da313f0a8e6f"
      },
      "execution_count": null,
      "outputs": [
        {
          "name": "stdout",
          "text": "320000/320000 [==============================] - 55s 173us/step\n\nACCURACY: 0.790090625\nLOSS: 0.44777257561683653\nCPU times: user 1min 18s, sys: 5.53 s, total: 1min 24s\nWall time: 55.4 s\n",
          "output_type": "stream"
        }
      ]
    },
    {
      "cell_type": "code",
      "source": [
        "acc = history.history['acc']\n",
        "val_acc = history.history['val_acc']\n",
        "loss = history.history['loss']\n",
        "val_loss = history.history['val_loss']\n",
        "\n",
        "epochs = range(len(acc))\n",
        "\n",
        "plt.plot(epochs, acc, 'b', label='Training acc')\n",
        "plt.plot(epochs, val_acc, 'r', label='Validation acc')\n",
        "plt.title('Training and validation accuracy')\n",
        "plt.legend()\n",
        "\n",
        "plt.figure()\n",
        "\n",
        "plt.plot(epochs, loss, 'b', label='Training loss')\n",
        "plt.plot(epochs, val_loss, 'r', label='Validation loss')\n",
        "plt.title('Training and validation loss')\n",
        "plt.legend()\n",
        "\n",
        "plt.show()"
      ],
      "metadata": {
        "_uuid": "40c72cd1e9d6c4fd799cbba7c813765ac4039dfc",
        "execution": {
          "iopub.status.busy": "2023-09-12T12:24:22.045666Z",
          "iopub.execute_input": "2023-09-12T12:24:22.045918Z",
          "iopub.status.idle": "2023-09-12T12:24:22.574118Z",
          "shell.execute_reply.started": "2023-09-12T12:24:22.045868Z",
          "shell.execute_reply": "2023-09-12T12:24:22.573011Z"
        },
        "trusted": true,
        "id": "7FeR5DOWeQ4A",
        "outputId": "9c37c610-80d9-4e35-a4a5-e1821491c73f"
      },
      "execution_count": null,
      "outputs": [
        {
          "output_type": "display_data",
          "data": {
            "text/plain": "<Figure size 432x288 with 1 Axes>",
            "image/png": "[encoded data removed]"
          },
          "metadata": {}
        },
        {
          "output_type": "display_data",
          "data": {
            "text/plain": "<Figure size 432x288 with 1 Axes>",
            "image/png": "[encoded data removed]"
          },
          "metadata": {}
        }
      ]
    },
    {
      "cell_type": "markdown",
      "source": [
        "### Predict"
      ],
      "metadata": {
        "_uuid": "6bdfc0f6a6af5bebc0271d83dd7432c91001409b",
        "id": "83XhXKgieQ4A"
      }
    },
    {
      "cell_type": "code",
      "source": [
        "def decode_sentiment(score, include_neutral=True):\n",
        "    if include_neutral:\n",
        "        label = NEUTRAL\n",
        "        if score <= SENTIMENT_THRESHOLDS[0]:\n",
        "            label = NEGATIVE\n",
        "        elif score >= SENTIMENT_THRESHOLDS[1]:\n",
        "            label = POSITIVE\n",
        "\n",
        "        return label\n",
        "    else:\n",
        "        return NEGATIVE if score < 0.5 else POSITIVE"
      ],
      "metadata": {
        "_uuid": "f0b0fa3d4b1bb14b3f5e3d169a369f3ebef29ae1",
        "execution": {
          "iopub.status.busy": "2023-09-12T12:24:22.580155Z",
          "iopub.execute_input": "2023-09-12T12:24:22.580664Z",
          "iopub.status.idle": "2023-09-12T12:24:22.592154Z",
          "shell.execute_reply.started": "2023-09-12T12:24:22.580477Z",
          "shell.execute_reply": "2023-09-12T12:24:22.590908Z"
        },
        "trusted": true,
        "id": "G6YvBET2eQ4A"
      },
      "execution_count": null,
      "outputs": []
    },
    {
      "cell_type": "code",
      "source": [
        "def predict(text, include_neutral=True):\n",
        "    start_at = time.time()\n",
        "    # Tokenize text\n",
        "    x_test = pad_sequences(tokenizer.texts_to_sequences([text]), maxlen=SEQUENCE_LENGTH)\n",
        "    # Predict\n",
        "    score = model.predict([x_test])[0]\n",
        "    # Decode sentiment\n",
        "    label = decode_sentiment(score, include_neutral=include_neutral)\n",
        "\n",
        "    return {\"label\": label, \"score\": float(score),\n",
        "       \"elapsed_time\": time.time()-start_at}"
      ],
      "metadata": {
        "_uuid": "ed4086d651f2f8cbed11d3c909a8873607d29a06",
        "execution": {
          "iopub.status.busy": "2023-09-12T12:24:22.597695Z",
          "iopub.execute_input": "2023-09-12T12:24:22.600649Z",
          "iopub.status.idle": "2023-09-12T12:24:22.610803Z",
          "shell.execute_reply.started": "2023-09-12T12:24:22.598040Z",
          "shell.execute_reply": "2023-09-12T12:24:22.609730Z"
        },
        "trusted": true,
        "id": "XnILj7eTeQ4A"
      },
      "execution_count": null,
      "outputs": []
    },
    {
      "cell_type": "code",
      "source": [
        "predict(\"I love the music\")"
      ],
      "metadata": {
        "_uuid": "ca38b1e6c9b5acfed7467de2cf02a78333108872",
        "execution": {
          "iopub.status.busy": "2023-09-12T12:24:22.612515Z",
          "iopub.execute_input": "2023-09-12T12:24:22.613011Z",
          "iopub.status.idle": "2023-09-12T12:24:22.947075Z",
          "shell.execute_reply.started": "2023-09-12T12:24:22.612799Z",
          "shell.execute_reply": "2023-09-12T12:24:22.946345Z"
        },
        "trusted": true,
        "id": "UBSfLmeseQ4A",
        "outputId": "965f073d-063c-48f6-e3f1-0b867f6a5271"
      },
      "execution_count": null,
      "outputs": [
        {
          "execution_count": 36,
          "output_type": "execute_result",
          "data": {
            "text/plain": "{'label': 'POSITIVE',\n 'score': 0.962282121181488,\n 'elapsed_time': 0.3231968879699707}"
          },
          "metadata": {}
        }
      ]
    },
    {
      "cell_type": "code",
      "source": [
        "predict(\"I hate the rain\")"
      ],
      "metadata": {
        "_uuid": "0e5fe647533be0148850de349fea6ef6f71303d1",
        "execution": {
          "iopub.status.busy": "2023-09-12T12:24:22.949587Z",
          "iopub.execute_input": "2023-09-12T12:24:22.950088Z",
          "iopub.status.idle": "2023-09-12T12:24:23.173298Z",
          "shell.execute_reply.started": "2023-09-12T12:24:22.950031Z",
          "shell.execute_reply": "2023-09-12T12:24:23.172729Z"
        },
        "trusted": true,
        "id": "JY3UMJ4-eQ4B",
        "outputId": "2b9e9ef1-a319-48d3-eb02-78601300f4ad"
      },
      "execution_count": null,
      "outputs": [
        {
          "execution_count": 37,
          "output_type": "execute_result",
          "data": {
            "text/plain": "{'label': 'NEGATIVE',\n 'score': 0.011195521801710129,\n 'elapsed_time': 0.2124474048614502}"
          },
          "metadata": {}
        }
      ]
    },
    {
      "cell_type": "code",
      "source": [
        "predict(\"i don't know what i'm doing\")"
      ],
      "metadata": {
        "_uuid": "37064dffcc8920d34ccd54fac7c8b50e583a8269",
        "execution": {
          "iopub.status.busy": "2023-09-12T12:24:23.174458Z",
          "iopub.execute_input": "2023-09-12T12:24:23.174933Z",
          "iopub.status.idle": "2023-09-12T12:24:23.347574Z",
          "shell.execute_reply.started": "2023-09-12T12:24:23.174878Z",
          "shell.execute_reply": "2023-09-12T12:24:23.346691Z"
        },
        "trusted": true,
        "id": "JiEyy9-2eQ4B",
        "outputId": "5f7f415c-cb01-43df-c2e4-31946a6783d2"
      },
      "execution_count": null,
      "outputs": [
        {
          "execution_count": 38,
          "output_type": "execute_result",
          "data": {
            "text/plain": "{'label': 'NEGATIVE',\n 'score': 0.3212285041809082,\n 'elapsed_time': 0.167527437210083}"
          },
          "metadata": {}
        }
      ]
    },
    {
      "cell_type": "markdown",
      "source": [
        "### Confusion Matrix"
      ],
      "metadata": {
        "_uuid": "3ee72e47f84b6dbc32e02a783de5ec1661f157e1",
        "id": "JzQm9ougeQ4B"
      }
    },
    {
      "cell_type": "code",
      "source": [
        "%%time\n",
        "y_pred_1d = []\n",
        "y_test_1d = list(df_test.target)\n",
        "scores = model.predict(x_test, verbose=1, batch_size=8000)\n",
        "y_pred_1d = [decode_sentiment(score, include_neutral=False) for score in scores]"
      ],
      "metadata": {
        "_uuid": "0e920173eb05f04aecdd735bc5dff0f5be5f8d15",
        "execution": {
          "iopub.status.busy": "2023-09-12T12:24:23.348651Z",
          "iopub.execute_input": "2023-09-12T12:24:23.348957Z",
          "iopub.status.idle": "2023-09-12T12:24:45.184593Z",
          "shell.execute_reply.started": "2023-09-12T12:24:23.348906Z",
          "shell.execute_reply": "2023-09-12T12:24:45.183515Z"
        },
        "trusted": true,
        "id": "W5N2WPEjeQ4B",
        "outputId": "fb586ee3-250f-4e3d-984d-697ab8bbdeda"
      },
      "execution_count": null,
      "outputs": [
        {
          "name": "stdout",
          "text": "320000/320000 [==============================] - 21s 66us/step\nCPU times: user 13.1 s, sys: 1.3 s, total: 14.4 s\nWall time: 21.8 s\n",
          "output_type": "stream"
        }
      ]
    },
    {
      "cell_type": "code",
      "source": [
        "def plot_confusion_matrix(cm, classes,\n",
        "                          title='Confusion matrix',\n",
        "                          cmap=plt.cm.Blues):\n",
        "    \"\"\"\n",
        "    This function prints and plots the confusion matrix.\n",
        "    Normalization can be applied by setting `normalize=True`.\n",
        "    \"\"\"\n",
        "\n",
        "    cm = cm.astype('float') / cm.sum(axis=1)[:, np.newaxis]\n",
        "\n",
        "    plt.imshow(cm, interpolation='nearest', cmap=cmap)\n",
        "    plt.title(title, fontsize=30)\n",
        "    plt.colorbar()\n",
        "    tick_marks = np.arange(len(classes))\n",
        "    plt.xticks(tick_marks, classes, rotation=90, fontsize=22)\n",
        "    plt.yticks(tick_marks, classes, fontsize=22)\n",
        "\n",
        "    fmt = '.2f'\n",
        "    thresh = cm.max() / 2.\n",
        "    for i, j in itertools.product(range(cm.shape[0]), range(cm.shape[1])):\n",
        "        plt.text(j, i, format(cm[i, j], fmt),\n",
        "                 horizontalalignment=\"center\",\n",
        "                 color=\"white\" if cm[i, j] > thresh else \"black\")\n",
        "\n",
        "    plt.ylabel('True label', fontsize=25)\n",
        "    plt.xlabel('Predicted label', fontsize=25)"
      ],
      "metadata": {
        "_uuid": "b3575191bb425ab871f3f41e83812ee84bb7e595",
        "execution": {
          "iopub.status.busy": "2023-09-12T12:24:45.186056Z",
          "iopub.execute_input": "2023-09-12T12:24:45.186346Z",
          "iopub.status.idle": "2023-09-12T12:24:45.195002Z",
          "shell.execute_reply.started": "2023-09-12T12:24:45.186298Z",
          "shell.execute_reply": "2023-09-12T12:24:45.193789Z"
        },
        "trusted": true,
        "id": "aZtNDcMveQ4B"
      },
      "execution_count": null,
      "outputs": []
    },
    {
      "cell_type": "code",
      "source": [
        "%%time\n",
        "\n",
        "cnf_matrix = confusion_matrix(y_test_1d, y_pred_1d)\n",
        "plt.figure(figsize=(12,12))\n",
        "plot_confusion_matrix(cnf_matrix, classes=df_train.target.unique(), title=\"Confusion matrix\")\n",
        "plt.show()"
      ],
      "metadata": {
        "_uuid": "a57dc6f6211c144491a70f533225edfa95a2dc66",
        "execution": {
          "iopub.status.busy": "2023-09-12T12:24:45.196376Z",
          "iopub.execute_input": "2023-09-12T12:24:45.196832Z",
          "iopub.status.idle": "2023-09-12T12:24:46.938134Z",
          "shell.execute_reply.started": "2023-09-12T12:24:45.196618Z",
          "shell.execute_reply": "2023-09-12T12:24:46.937332Z"
        },
        "trusted": true,
        "id": "DTJiHGv5eQ4F",
        "outputId": "4cfd2c91-4607-449d-895b-5d50b5b34bde"
      },
      "execution_count": null,
      "outputs": [
        {
          "output_type": "display_data",
          "data": {
            "text/plain": "<Figure size 864x864 with 2 Axes>",
            "image/png": "[encoded data removed]"
          },
          "metadata": {}
        },
        {
          "name": "stdout",
          "text": "CPU times: user 1.79 s, sys: 264 ms, total: 2.06 s\nWall time: 1.72 s\n",
          "output_type": "stream"
        }
      ]
    },
    {
      "cell_type": "markdown",
      "source": [
        "### Classification Report"
      ],
      "metadata": {
        "_uuid": "e23b957348dcc084249d3cc7538b972da471c2cd",
        "id": "QNGElLyDeQ4G"
      }
    },
    {
      "cell_type": "code",
      "source": [
        "print(classification_report(y_test_1d, y_pred_1d))"
      ],
      "metadata": {
        "_uuid": "a7fe05b7caa1c984ff1deb0be2f7c6bc043df9f5",
        "execution": {
          "iopub.status.busy": "2023-09-12T12:24:46.939460Z",
          "iopub.execute_input": "2023-09-12T12:24:46.939998Z",
          "iopub.status.idle": "2023-09-12T12:24:49.614172Z",
          "shell.execute_reply.started": "2023-09-12T12:24:46.939942Z",
          "shell.execute_reply": "2023-09-12T12:24:49.613337Z"
        },
        "trusted": true,
        "id": "f63nMnLTeQ4G",
        "outputId": "33e5e037-92d1-4557-b501-a9493f0e2598"
      },
      "execution_count": null,
      "outputs": [
        {
          "name": "stdout",
          "text": "              precision    recall  f1-score   support\n\n    NEGATIVE       0.79      0.78      0.79    159494\n    POSITIVE       0.79      0.80      0.79    160506\n\n   micro avg       0.79      0.79      0.79    320000\n   macro avg       0.79      0.79      0.79    320000\nweighted avg       0.79      0.79      0.79    320000\n\n",
          "output_type": "stream"
        }
      ]
    },
    {
      "cell_type": "markdown",
      "source": [
        "### Accuracy Score"
      ],
      "metadata": {
        "_uuid": "4eb300f0c6693a618587c7dcf32f77f5416cbfb9",
        "id": "tZ2MI1toeQ4G"
      }
    },
    {
      "cell_type": "code",
      "source": [
        "accuracy_score(y_test_1d, y_pred_1d)"
      ],
      "metadata": {
        "_uuid": "5cf76e6e09f8a60ed25947932b94c772eda44d23",
        "execution": {
          "iopub.status.busy": "2023-09-12T12:24:49.615586Z",
          "iopub.execute_input": "2023-09-12T12:24:49.616142Z",
          "iopub.status.idle": "2023-09-12T12:24:50.107634Z",
          "shell.execute_reply.started": "2023-09-12T12:24:49.616085Z",
          "shell.execute_reply": "2023-09-12T12:24:50.106810Z"
        },
        "trusted": true,
        "id": "QSRwRXY6eQ4G",
        "outputId": "37aa9052-6797-4eee-93d2-1d65e859be0c"
      },
      "execution_count": null,
      "outputs": [
        {
          "execution_count": 43,
          "output_type": "execute_result",
          "data": {
            "text/plain": "0.790090625"
          },
          "metadata": {}
        }
      ]
    }
  ]
}